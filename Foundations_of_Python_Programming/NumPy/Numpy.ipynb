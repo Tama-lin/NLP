{
 "cells": [
  {
   "cell_type": "code",
   "execution_count": 1,
   "metadata": {},
   "outputs": [],
   "source": [
    "import numpy as np\n",
    "import math"
   ]
  },
  {
   "cell_type": "markdown",
   "metadata": {},
   "source": [
    "# 1次元配列"
   ]
  },
  {
   "cell_type": "code",
   "execution_count": 2,
   "metadata": {},
   "outputs": [
    {
     "data": {
      "text/plain": [
       "array([1, 2, 3])"
      ]
     },
     "execution_count": 2,
     "metadata": {},
     "output_type": "execute_result"
    }
   ],
   "source": [
    "# 1次元配列を作成\n",
    "np.array([1, 2, 3])"
   ]
  },
  {
   "cell_type": "code",
   "execution_count": 3,
   "metadata": {},
   "outputs": [
    {
     "data": {
      "text/plain": [
       "array([0, 1, 2, 3, 4])"
      ]
     },
     "execution_count": 3,
     "metadata": {},
     "output_type": "execute_result"
    }
   ],
   "source": [
    "# 数字が連続した配列の場合はnp.arange()を使って作成することもできる\n",
    "np.arange(5)"
   ]
  },
  {
   "cell_type": "markdown",
   "metadata": {},
   "source": [
    "# 多次元配列"
   ]
  },
  {
   "cell_type": "code",
   "execution_count": 4,
   "metadata": {},
   "outputs": [
    {
     "data": {
      "text/plain": [
       "array([[1, 2, 3],\n",
       "       [4, 5, 6]])"
      ]
     },
     "execution_count": 4,
     "metadata": {},
     "output_type": "execute_result"
    }
   ],
   "source": [
    "# 多次元配列を作成\n",
    "np.array([[1, 2, 3],\n",
    "          [4, 5, 6]])"
   ]
  },
  {
   "cell_type": "markdown",
   "metadata": {},
   "source": [
    "# 特殊な配列"
   ]
  },
  {
   "cell_type": "code",
   "execution_count": 5,
   "metadata": {},
   "outputs": [
    {
     "data": {
      "text/plain": [
       "array([[0., 0., 0., 0.],\n",
       "       [0., 0., 0., 0.]])"
      ]
     },
     "execution_count": 5,
     "metadata": {},
     "output_type": "execute_result"
    }
   ],
   "source": [
    "# 要素数がすべて0の配列はnp.zeros()関数を使って作成できる\n",
    "np.zeros([2, 4])"
   ]
  },
  {
   "cell_type": "code",
   "execution_count": 6,
   "metadata": {},
   "outputs": [
    {
     "data": {
      "text/plain": [
       "array([[1., 1., 1., 1.],\n",
       "       [1., 1., 1., 1.]])"
      ]
     },
     "execution_count": 6,
     "metadata": {},
     "output_type": "execute_result"
    }
   ],
   "source": [
    "# 要素数がすべて1の配列はnp.ones()関数を使って作成できる\n",
    "np.ones([2, 4])"
   ]
  },
  {
   "cell_type": "markdown",
   "metadata": {},
   "source": [
    "# 配列の計算"
   ]
  },
  {
   "cell_type": "markdown",
   "metadata": {},
   "source": [
    "## 1. 四則演算\n",
    "pythonでは本来、list型とint型の演算は型が違うためできない。  \n",
    "しかし、NumPyを使えば配列内の全ての要素に対して演算を行うことができる。  \n",
    "この機能を **ブロードキャスト** と呼ぶ。  \n"
   ]
  },
  {
   "cell_type": "code",
   "execution_count": 7,
   "metadata": {},
   "outputs": [
    {
     "data": {
      "text/plain": [
       "array([3, 4, 5])"
      ]
     },
     "execution_count": 7,
     "metadata": {},
     "output_type": "execute_result"
    }
   ],
   "source": [
    "# 足し算\n",
    "np.array([1, 2, 3]) + 2"
   ]
  },
  {
   "cell_type": "code",
   "execution_count": 8,
   "metadata": {},
   "outputs": [
    {
     "data": {
      "text/plain": [
       "array([3, 6, 9])"
      ]
     },
     "execution_count": 8,
     "metadata": {},
     "output_type": "execute_result"
    }
   ],
   "source": [
    "# 掛け算\n",
    "np.array([1, 2, 3]) * 3"
   ]
  },
  {
   "cell_type": "code",
   "execution_count": 9,
   "metadata": {},
   "outputs": [
    {
     "data": {
      "text/plain": [
       "array([0.14285714, 0.28571429, 0.42857143])"
      ]
     },
     "execution_count": 9,
     "metadata": {},
     "output_type": "execute_result"
    }
   ],
   "source": [
    "# 割り算\n",
    "np.array([1, 2, 3]) / 7"
   ]
  },
  {
   "cell_type": "markdown",
   "metadata": {},
   "source": [
    "## 2. 配列の合計"
   ]
  },
  {
   "cell_type": "code",
   "execution_count": 10,
   "metadata": {},
   "outputs": [
    {
     "data": {
      "text/plain": [
       "10"
      ]
     },
     "execution_count": 10,
     "metadata": {},
     "output_type": "execute_result"
    }
   ],
   "source": [
    "a = np.array([1, 2, 3, 4])\n",
    "a.sum()"
   ]
  },
  {
   "cell_type": "markdown",
   "metadata": {},
   "source": [
    "## 3. 配列の内積"
   ]
  },
  {
   "cell_type": "code",
   "execution_count": 11,
   "metadata": {},
   "outputs": [
    {
     "data": {
      "text/plain": [
       "8"
      ]
     },
     "execution_count": 11,
     "metadata": {},
     "output_type": "execute_result"
    }
   ],
   "source": [
    "b = np.array([1, 2])\n",
    "c = np.array([2, 3])\n",
    "np.dot(b, c)"
   ]
  },
  {
   "cell_type": "markdown",
   "metadata": {},
   "source": [
    "これはb[0]とc[0]の積と、b[1]とc[1]の積の和を取っている。  \n",
    "数字で説明すると、1 × 2 + 2 × 3 = 8という計算を行なっている。  \n",
    "行列の内積は線形代数と呼ばれる分野で登場。  "
   ]
  },
  {
   "cell_type": "markdown",
   "metadata": {},
   "source": [
    "※　内積は要素数が一致していれば計算できるため、要素数の違う配列同士を計算しようすると次のようなエラーが起こる。"
   ]
  },
  {
   "cell_type": "code",
   "execution_count": 13,
   "metadata": {},
   "outputs": [
    {
     "ename": "ValueError",
     "evalue": "shapes (3,) and (2,) not aligned: 3 (dim 0) != 2 (dim 0)",
     "output_type": "error",
     "traceback": [
      "\u001b[0;31m---------------------------------------------------------------------------\u001b[0m",
      "\u001b[0;31mValueError\u001b[0m                                Traceback (most recent call last)",
      "\u001b[0;32m<ipython-input-13-fa3a74ab1f08>\u001b[0m in \u001b[0;36m<module>\u001b[0;34m\u001b[0m\n\u001b[1;32m      1\u001b[0m \u001b[0md\u001b[0m \u001b[0;34m=\u001b[0m \u001b[0mnp\u001b[0m\u001b[0;34m.\u001b[0m\u001b[0marray\u001b[0m\u001b[0;34m(\u001b[0m\u001b[0;34m[\u001b[0m\u001b[0;36m1\u001b[0m\u001b[0;34m,\u001b[0m \u001b[0;36m3\u001b[0m\u001b[0;34m,\u001b[0m \u001b[0;36m5\u001b[0m\u001b[0;34m]\u001b[0m\u001b[0;34m)\u001b[0m\u001b[0;34m\u001b[0m\u001b[0;34m\u001b[0m\u001b[0m\n\u001b[1;32m      2\u001b[0m \u001b[0me\u001b[0m \u001b[0;34m=\u001b[0m \u001b[0mnp\u001b[0m\u001b[0;34m.\u001b[0m\u001b[0marray\u001b[0m\u001b[0;34m(\u001b[0m\u001b[0;34m[\u001b[0m\u001b[0;36m2\u001b[0m\u001b[0;34m,\u001b[0m \u001b[0;36m4\u001b[0m\u001b[0;34m]\u001b[0m\u001b[0;34m)\u001b[0m\u001b[0;34m\u001b[0m\u001b[0;34m\u001b[0m\u001b[0m\n\u001b[0;32m----> 3\u001b[0;31m \u001b[0mnp\u001b[0m\u001b[0;34m.\u001b[0m\u001b[0mdot\u001b[0m\u001b[0;34m(\u001b[0m\u001b[0md\u001b[0m\u001b[0;34m,\u001b[0m \u001b[0me\u001b[0m\u001b[0;34m)\u001b[0m\u001b[0;34m\u001b[0m\u001b[0;34m\u001b[0m\u001b[0m\n\u001b[0m",
      "\u001b[0;32m<__array_function__ internals>\u001b[0m in \u001b[0;36mdot\u001b[0;34m(*args, **kwargs)\u001b[0m\n",
      "\u001b[0;31mValueError\u001b[0m: shapes (3,) and (2,) not aligned: 3 (dim 0) != 2 (dim 0)"
     ]
    }
   ],
   "source": [
    "d = np.array([1, 3, 5])\n",
    "e = np.array([2, 4])\n",
    "np.dot(d, e)"
   ]
  },
  {
   "cell_type": "markdown",
   "metadata": {},
   "source": [
    "## 4. 平方根の計算"
   ]
  },
  {
   "cell_type": "code",
   "execution_count": 14,
   "metadata": {},
   "outputs": [
    {
     "data": {
      "text/plain": [
       "3.0"
      ]
     },
     "execution_count": 14,
     "metadata": {},
     "output_type": "execute_result"
    }
   ],
   "source": [
    "np.sqrt(9)"
   ]
  },
  {
   "cell_type": "markdown",
   "metadata": {},
   "source": [
    "# 乱数の生成"
   ]
  },
  {
   "cell_type": "markdown",
   "metadata": {},
   "source": [
    "乱数の生成はPythonのrandomモジュールでも計算できますが、NumPyを使っても乱数を生成することができる  \n",
    "NumPyを使う利点としては、乱数の配列が簡単に作成できることと、配列の処理が高速  "
   ]
  },
  {
   "cell_type": "code",
   "execution_count": 15,
   "metadata": {},
   "outputs": [
    {
     "data": {
      "text/plain": [
       "array([0.84757417, 0.28868924, 0.44463158])"
      ]
     },
     "execution_count": 15,
     "metadata": {},
     "output_type": "execute_result"
    }
   ],
   "source": [
    "# 0〜1の乱数を1つ生成\n",
    "r = np.random.rand(3)\n",
    "r"
   ]
  },
  {
   "cell_type": "code",
   "execution_count": 16,
   "metadata": {},
   "outputs": [
    {
     "data": {
      "text/plain": [
       "numpy.ndarray"
      ]
     },
     "execution_count": 16,
     "metadata": {},
     "output_type": "execute_result"
    }
   ],
   "source": [
    "type(r)"
   ]
  },
  {
   "cell_type": "code",
   "execution_count": 17,
   "metadata": {},
   "outputs": [
    {
     "data": {
      "text/plain": [
       "array([[0.60824703, 0.75529495],\n",
       "       [0.89551994, 0.19368186]])"
      ]
     },
     "execution_count": 17,
     "metadata": {},
     "output_type": "execute_result"
    }
   ],
   "source": [
    "# 乱数を複数生成するとNumPy配列で与えられるため、次のようにすることで要素が0~1の行列を生成することもできる\n",
    "np.random.rand(2, 2)"
   ]
  },
  {
   "cell_type": "code",
   "execution_count": 18,
   "metadata": {},
   "outputs": [
    {
     "data": {
      "text/plain": [
       "76"
      ]
     },
     "execution_count": 18,
     "metadata": {},
     "output_type": "execute_result"
    }
   ],
   "source": [
    "# 整数の乱数を「1個」生成\n",
    "# 引数に整数を与えることで、その数字未満の乱数が「1個」生成される。\n",
    "np.random.randint(100)"
   ]
  },
  {
   "cell_type": "markdown",
   "metadata": {},
   "source": [
    "# 問題１：多次元配列を作成しよう\n",
    "\n",
    "次のような出力になるように、NumPyを使って多次元配列を作成してみましょう。  \n",
    "  \n",
    "[[11 12 13]  \n",
    " [21 22 23]  \n",
    " [31 32 33]]"
   ]
  },
  {
   "cell_type": "code",
   "execution_count": 19,
   "metadata": {},
   "outputs": [
    {
     "name": "stdout",
     "output_type": "stream",
     "text": [
      "[[11 12 13]\n",
      " [21 22 23]\n",
      " [31 32 33]]\n"
     ]
    }
   ],
   "source": [
    "# 配列を作成してください。\n",
    "a = np.array([[11, 12, 13],\n",
    "            [21, 22, 23],\n",
    "            [31, 32, 33]])\n",
    "          \n",
    "# 作成した配列を出力してください。\n",
    "print(a)"
   ]
  },
  {
   "cell_type": "markdown",
   "metadata": {},
   "source": [
    "# 問題２：NumPy配列内の要素を3倍をしよう"
   ]
  },
  {
   "cell_type": "markdown",
   "metadata": {},
   "source": [
    "次のNumPy配列があります。  \n",
    "  \n",
    "  [[1 2 3]  \n",
    " [4 5 6]]  \n",
    " \n",
    " この配列が次のようになるようにブロードキャストの機能を使って計算してみましょう。  \n",
    "   \n",
    "   [[ 3  6  9]  \n",
    " [12 15 18]]  \n",
    " "
   ]
  },
  {
   "cell_type": "code",
   "execution_count": 20,
   "metadata": {},
   "outputs": [
    {
     "name": "stdout",
     "output_type": "stream",
     "text": [
      "[[ 3  6  9]\n",
      " [12 15 18]]\n"
     ]
    }
   ],
   "source": [
    "# ブロードキャストを使ってNumpy配列内の要素を3倍してください。\n",
    "\n",
    "# 次の配列があります。\n",
    "a = np.array([[1, 2, 3],\n",
    "             [4, 5, 6]])\n",
    "\n",
    "# ブロードキャストを使って上の配列内の要素を3倍にしてください。\n",
    "a_triple = a * 3\n",
    "\n",
    "# 3倍にした配列を出力してください。\n",
    "print(a_triple)"
   ]
  },
  {
   "cell_type": "markdown",
   "metadata": {},
   "source": [
    "# 問題３：NumPy配列の要素の合計を求めよう"
   ]
  },
  {
   "cell_type": "markdown",
   "metadata": {},
   "source": [
    "次のNumPy配列があります。  \n",
    "  \n",
    "[[1 1 2]  \n",
    " [3 5 8]]\n",
    "   \n",
    "   この配列の要素の合計を計算し、計算結果を出力してください。"
   ]
  },
  {
   "cell_type": "code",
   "execution_count": 21,
   "metadata": {},
   "outputs": [
    {
     "name": "stdout",
     "output_type": "stream",
     "text": [
      "20\n"
     ]
    }
   ],
   "source": [
    "# 配列の要素の合計を求めてください。\n",
    "\n",
    "# 次の配列があります。\n",
    "a = np.array([[1, 1, 2],\n",
    "             [3, 5, 8]])\n",
    "\n",
    "# 配列の要素の合計を計算してください。\n",
    "a_sum = a.sum()\n",
    "\n",
    "# 計算した値を出力してください。\n",
    "print(a_sum)"
   ]
  },
  {
   "cell_type": "markdown",
   "metadata": {},
   "source": [
    "# 問題4： cos類似度の計算"
   ]
  },
  {
   "cell_type": "code",
   "execution_count": 22,
   "metadata": {},
   "outputs": [],
   "source": [
    "# cos類似度を計算してください\n",
    "# 次の2つのベクトルがあります。\n",
    "a = np.array([2, 1])\n",
    "b = np.array([1, 3])"
   ]
  },
  {
   "cell_type": "code",
   "execution_count": 23,
   "metadata": {},
   "outputs": [
    {
     "data": {
      "text/plain": [
       "5"
      ]
     },
     "execution_count": 23,
     "metadata": {},
     "output_type": "execute_result"
    }
   ],
   "source": [
    "# まずは分子を計算します。\n",
    "# 2つのベクトルの内積を計算してください。\n",
    "InnerProduct = np.dot(a, b)\n",
    "InnerProduct"
   ]
  },
  {
   "cell_type": "code",
   "execution_count": 24,
   "metadata": {},
   "outputs": [
    {
     "name": "stdout",
     "output_type": "stream",
     "text": [
      "[4 1]\n"
     ]
    }
   ],
   "source": [
    "# 次に分母を計算します。\n",
    "# まずはベクトルaの絶対値を計算します。\n",
    "# ベクトルaの要素を2乗してください。\n",
    "a_square = np.square(a)\n",
    "print(a_square)"
   ]
  },
  {
   "cell_type": "code",
   "execution_count": 25,
   "metadata": {},
   "outputs": [
    {
     "data": {
      "text/plain": [
       "5"
      ]
     },
     "execution_count": 25,
     "metadata": {},
     "output_type": "execute_result"
    }
   ],
   "source": [
    "# 要素が2乗されたベクトルaの要素の和を求めてください。\n",
    "a_square_sum = a_square.sum()\n",
    "a_square_sum"
   ]
  },
  {
   "cell_type": "code",
   "execution_count": 26,
   "metadata": {},
   "outputs": [
    {
     "data": {
      "text/plain": [
       "2.23606797749979"
      ]
     },
     "execution_count": 26,
     "metadata": {},
     "output_type": "execute_result"
    }
   ],
   "source": [
    "# 上で得られた値の平方根をとり、ベクトルaの絶対値を得ます。\n",
    "a_AbsoluteＶalue = np.sqrt(a_square_sum)\n",
    "a_AbsoluteＶalue"
   ]
  },
  {
   "cell_type": "code",
   "execution_count": 27,
   "metadata": {},
   "outputs": [],
   "source": [
    "# 同様の操作をベクトルbについても行います。\n",
    "# まずはベクトルbの絶対値を計算します。\n",
    "# ベクトルbの要素を2乗してください。\n",
    "b_square = np.square(b)"
   ]
  },
  {
   "cell_type": "code",
   "execution_count": 28,
   "metadata": {},
   "outputs": [],
   "source": [
    "# 要素が2乗されたベクトルbの要素の和を求めてください。\n",
    "b_square_sum = b_square.sum()"
   ]
  },
  {
   "cell_type": "code",
   "execution_count": 29,
   "metadata": {},
   "outputs": [
    {
     "data": {
      "text/plain": [
       "3.1622776601683795"
      ]
     },
     "execution_count": 29,
     "metadata": {},
     "output_type": "execute_result"
    }
   ],
   "source": [
    "# 上で得られた値の平方根をとり、ベクトルbの絶対値を得ます。\n",
    "b_AbsoluteＶalue = np.sqrt(b_square_sum)\n",
    "b_AbsoluteＶalue"
   ]
  },
  {
   "cell_type": "code",
   "execution_count": 30,
   "metadata": {},
   "outputs": [
    {
     "data": {
      "text/plain": [
       "7.071067811865476"
      ]
     },
     "execution_count": 30,
     "metadata": {},
     "output_type": "execute_result"
    }
   ],
   "source": [
    "# 2つのベクトルの絶対値の積を求めて、分母の計算が終わります。\n",
    "ab_sum_AbsoluteＶalue = a_AbsoluteＶalue * b_AbsoluteＶalue\n",
    "ab_sum_AbsoluteＶalue"
   ]
  },
  {
   "cell_type": "code",
   "execution_count": 31,
   "metadata": {},
   "outputs": [
    {
     "data": {
      "text/plain": [
       "0.7071067811865475"
      ]
     },
     "execution_count": 31,
     "metadata": {},
     "output_type": "execute_result"
    }
   ],
   "source": [
    "# 分子を分母で割ってcos類似度を求めてください。\n",
    "ab_cos = InnerProduct / ab_sum_AbsoluteＶalue\n",
    "ab_cos"
   ]
  },
  {
   "cell_type": "code",
   "execution_count": 32,
   "metadata": {},
   "outputs": [
    {
     "data": {
      "text/plain": [
       "0.71"
      ]
     },
     "execution_count": 32,
     "metadata": {},
     "output_type": "execute_result"
    }
   ],
   "source": [
    "# 少数第三位を四捨五入してください。\n",
    "round(ab_cos, 2)"
   ]
  },
  {
   "cell_type": "code",
   "execution_count": 33,
   "metadata": {},
   "outputs": [
    {
     "name": "stdout",
     "output_type": "stream",
     "text": [
      "0.71\n"
     ]
    }
   ],
   "source": [
    "# 計算したcos類似度を出力してください。\n",
    "print(round(ab_cos, 2))"
   ]
  },
  {
   "cell_type": "markdown",
   "metadata": {},
   "source": [
    "## 四捨五入：round (   )\n",
    "\n",
    "## $round  ( number [　　, ndigits] )$\n",
    "\n",
    "引数はそれぞれ、  \n",
    "\n",
    "第一引数number : 四捨五入したい値  \n",
    "第二引数ndigits : 四捨五入後の小数点の桁数  \n",
    "尚、第二引数ndigitsに何も設定しない場合は、その数値に最も近い整数値を返す。  "
   ]
  },
  {
   "cell_type": "code",
   "execution_count": 34,
   "metadata": {},
   "outputs": [
    {
     "name": "stdout",
     "output_type": "stream",
     "text": [
      "第二引数を省略した場合(最も近い整数値となる):  1.0\n",
      "小数点第二位を四捨五入:  0.7\n",
      "小数点第三位を四捨五入:  0.71\n",
      "小数点第四位を四捨五入:  0.707\n",
      "整数部分を四捨五入:  0.0\n"
     ]
    }
   ],
   "source": [
    "# 第二引数を省略した場合は、最も近い整数値となる\n",
    "print(\"第二引数を省略した場合(最も近い整数値となる): \", round(ab_cos))\n",
    "\n",
    "\n",
    "# 小数点以下1桁　（小数点第二位を四捨五入）\n",
    "print(\"小数点第二位を四捨五入: \", round(ab_cos, 1))\n",
    "\n",
    "# 小数点以下2桁　（小数点第三位を四捨五入）\n",
    "print(\"小数点第三位を四捨五入: \", round(ab_cos, 2))\n",
    "\n",
    "\n",
    "# 小数点以下3桁　（小数点第四位を四捨五入）\n",
    "print(\"小数点第四位を四捨五入: \", round(ab_cos, 3))\n",
    "\n",
    "# 第二引数ndigitsに負の整数を設定すると整数部分が四捨五入される。\n",
    "print(\"整数部分を四捨五入: \", round(ab_cos, -1))\n"
   ]
  },
  {
   "cell_type": "markdown",
   "metadata": {},
   "source": [
    "## 四捨五入：format()\n",
    "## $ format (x , 書式 ) $\n",
    "\n",
    "標準関数format()の書式設定を使う  \n",
    "例えば小数点第3位を四捨五入して、小数2位まで表示するには、$ .2f $ と指定  "
   ]
  },
  {
   "cell_type": "code",
   "execution_count": 35,
   "metadata": {},
   "outputs": [
    {
     "name": "stdout",
     "output_type": "stream",
     "text": [
      "円周率:  [2 1]\n",
      "円周率の整数値:  3\n",
      "円周率の小数点以下1桁:  3.1\n",
      "円周率の小数点以下2桁:  3.14\n",
      "円周率の小数点以下3桁:  3.142\n",
      "円周率の小数点以下5桁:  3.14159\n"
     ]
    }
   ],
   "source": [
    "# 円周率を例にします。\n",
    "Pi = 3.141592653589793\n",
    "print(\"円周率: \" , str(a))\n",
    "\n",
    "\n",
    "\n",
    "# 整数値　（小数点第一位を四捨五入）\n",
    "print(\"円周率の整数値: \" , format(Pi, '.0f'))\n",
    "\n",
    "# 小数点以下1桁　（小数点第二位を四捨五入）\n",
    "print(\"円周率の小数点以下1桁: \" , format(Pi, '.1f'))\n",
    "\n",
    "# 小数点以下2桁　（小数点第三位を四捨五入）\n",
    "print(\"円周率の小数点以下2桁: \" , format(Pi, '.2f'))\n",
    "\n",
    "\n",
    "# 小数点以下3桁　（小数点第四位を四捨五入）\n",
    "print(\"円周率の小数点以下3桁: \" , format(Pi, '.3f'))\n",
    "\n",
    "# 小数点以下5桁　（小数点第六位を四捨五入）\n",
    "print(\"円周率の小数点以下5桁: \" , format(Pi, '.5f'))"
   ]
  },
  {
   "cell_type": "markdown",
   "metadata": {},
   "source": [
    "# cos_sim関数"
   ]
  },
  {
   "cell_type": "code",
   "execution_count": 57,
   "metadata": {},
   "outputs": [],
   "source": [
    "# cos_sim関数を作成\n",
    "def cos_sim(v1, v2):\n",
    "    return np.dot(v1, v2) / (np.linalg.norm(v1) * np.linalg.norm(v2))"
   ]
  },
  {
   "cell_type": "code",
   "execution_count": 58,
   "metadata": {},
   "outputs": [
    {
     "name": "stdout",
     "output_type": "stream",
     "text": [
      "0.7071067811865475\n"
     ]
    }
   ],
   "source": [
    "print(cos_sim(a, b))"
   ]
  },
  {
   "cell_type": "code",
   "execution_count": 59,
   "metadata": {},
   "outputs": [
    {
     "name": "stdout",
     "output_type": "stream",
     "text": [
      "aとbのcos類似度:  0.7071067811865475\n",
      "小数点第三位を四捨五入:  0.71\n"
     ]
    }
   ],
   "source": [
    "# 小数点以下2桁　（小数点第三位を四捨五入）\n",
    "print(\"aとbのcos類似度: \", cos_sim(a, b))\n",
    "\n",
    "# 小数点以下2桁　（小数点第三位を四捨五入）\n",
    "print(\"小数点第三位を四捨五入: \", round(cos_sim(a, b), 2))"
   ]
  },
  {
   "cell_type": "code",
   "execution_count": null,
   "metadata": {},
   "outputs": [],
   "source": []
  },
  {
   "cell_type": "code",
   "execution_count": null,
   "metadata": {},
   "outputs": [],
   "source": []
  },
  {
   "cell_type": "code",
   "execution_count": null,
   "metadata": {},
   "outputs": [],
   "source": []
  }
 ],
 "metadata": {
  "kernelspec": {
   "display_name": "Python 3",
   "language": "python",
   "name": "python3"
  },
  "language_info": {
   "codemirror_mode": {
    "name": "ipython",
    "version": 3
   },
   "file_extension": ".py",
   "mimetype": "text/x-python",
   "name": "python",
   "nbconvert_exporter": "python",
   "pygments_lexer": "ipython3",
   "version": "3.7.4"
  }
 },
 "nbformat": 4,
 "nbformat_minor": 2
}
